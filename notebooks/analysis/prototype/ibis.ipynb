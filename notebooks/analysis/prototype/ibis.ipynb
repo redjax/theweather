{
 "cells": [
  {
   "cell_type": "code",
   "execution_count": null,
   "id": "0",
   "metadata": {},
   "outputs": [],
   "source": [
    "## Set notebook to auto reload updated modules\n",
    "%load_ext autoreload\n",
    "%autoreload 2"
   ]
  },
  {
   "cell_type": "code",
   "execution_count": null,
   "id": "1",
   "metadata": {},
   "outputs": [],
   "source": [
    "from shared.config import SHARED_SETTINGS\n",
    "from shared.db import get_db_uri, get_engine, get_session_pool"
   ]
  },
  {
   "cell_type": "code",
   "execution_count": null,
   "id": "2",
   "metadata": {},
   "outputs": [],
   "source": [
    "from shared.domain.weatherapi.weather.current import (CurrentWeatherIn, CurrentWeatherOut, CurrentWeatherRepository, CurrentWeatherModel, CurrentWeatherJSONIn, CurrentWeatherJSONOut, CurrentWeatherJSONModel, CurrentWeatherJSONRepository)\n",
    "\n",
    "from shared.domain.weatherapi.location import (LocationIn, LocationJSONModel, LocationModel, LocationOut, LocationRepository)\n",
    "\n",
    "from shared.domain.weatherapi.weather.forecast import ForecastJSONIn, ForecastJSONModel, ForecastJSONOut, ForecastJSONRepository"
   ]
  },
  {
   "cell_type": "code",
   "execution_count": null,
   "id": "3",
   "metadata": {},
   "outputs": [],
   "source": [
    "from config import SETTINGS, DB_SETTINGS"
   ]
  },
  {
   "cell_type": "code",
   "execution_count": null,
   "id": "4",
   "metadata": {},
   "outputs": [],
   "source": [
    "import ibis\n",
    "from ibis import sqlite"
   ]
  },
  {
   "cell_type": "code",
   "execution_count": null,
   "id": "5",
   "metadata": {},
   "outputs": [],
   "source": [
    "display(DB_SETTINGS)"
   ]
  },
  {
   "cell_type": "code",
   "execution_count": null,
   "id": "6",
   "metadata": {},
   "outputs": [],
   "source": [
    "db_url = get_db_uri(\n",
    "    drivername=DB_SETTINGS.get(\"DB_DRIVERNAME\"),\n",
    "    username=DB_SETTINGS.get(\"DB_USERNAME\"),\n",
    "    password=DB_SETTINGS.get(\"DB_PASSWORD\"),\n",
    "    host=DB_SETTINGS.get(\"DB_HOST\"),\n",
    "    port=DB_SETTINGS.get(\"DB_PORT\"),\n",
    "    database=DB_SETTINGS.get(\"DB_DATABASE\")\n",
    ")"
   ]
  },
  {
   "cell_type": "code",
   "execution_count": null,
   "id": "7",
   "metadata": {},
   "outputs": [],
   "source": [
    "db_engine = get_engine(url=db_url, echo=DB_SETTINGS.get(\"db_echo\", False))"
   ]
  },
  {
   "cell_type": "code",
   "execution_count": null,
   "id": "8",
   "metadata": {},
   "outputs": [],
   "source": [
    "SessionLocal = get_session_pool(engine=db_engine)"
   ]
  },
  {
   "cell_type": "markdown",
   "id": "9",
   "metadata": {},
   "source": [
    "---"
   ]
  },
  {
   "cell_type": "code",
   "execution_count": null,
   "id": "10",
   "metadata": {},
   "outputs": [],
   "source": [
    "## Get ibis connection\n",
    "con = ibis.sqlite.connect(DB_SETTINGS.get(\"DB_DATABASE\"))"
   ]
  },
  {
   "cell_type": "code",
   "execution_count": null,
   "id": "11",
   "metadata": {},
   "outputs": [],
   "source": [
    "## List tables\n",
    "tables = con.list_tables()\n",
    "display(tables)"
   ]
  },
  {
   "cell_type": "code",
   "execution_count": null,
   "id": "12",
   "metadata": {},
   "outputs": [],
   "source": [
    "## Iterate over table names and print schemas\n",
    "for table_name in tables:\n",
    "    _schema = con.table(table_name)\n",
    "    display(_schema)"
   ]
  },
  {
   "cell_type": "code",
   "execution_count": null,
   "id": "13",
   "metadata": {},
   "outputs": [],
   "source": [
    "date_columns = [\n",
    "    {\n",
    "        \"table\": \"weatherapi_current_json\",\n",
    "        \"date_col\": \"created_at\"\n",
    "    },\n",
    "    {\n",
    "        \"table\": \"weatherapi_current_weather\",\n",
    "        \"date_col\": \"last_updated\"\n",
    "    },\n",
    "    {\n",
    "        \"table\": \"weatherapi_forecast_json\",\n",
    "        \"date_col\": \"created_at\"\n",
    "    },\n",
    "    {\n",
    "        \"table\": \"weatherapi_location_json\",\n",
    "        \"date_col\": \"created_at\"\n",
    "    }\n",
    "]"
   ]
  },
  {
   "cell_type": "code",
   "execution_count": null,
   "id": "14",
   "metadata": {},
   "outputs": [],
   "source": [
    "sorted_tables = []"
   ]
  },
  {
   "cell_type": "code",
   "execution_count": null,
   "id": "15",
   "metadata": {},
   "outputs": [],
   "source": [
    "for _dict in date_columns:\n",
    "    _table = _dict[\"table\"]\n",
    "    _col = _dict[\"date_col\"]\n",
    "    \n",
    "    _sorted = con.table(_table).order_by([ibis.desc(_col)])\n",
    "    sorted_tables.append({\"table_name\": _table, \"data\": _sorted})"
   ]
  },
  {
   "cell_type": "code",
   "execution_count": null,
   "id": "16",
   "metadata": {},
   "outputs": [],
   "source": [
    "for sorted_t in sorted_tables:\n",
    "    t_name = sorted_t['table_name']\n",
    "    t_data = sorted_t['data']\n",
    "    \n",
    "    t = con.table(t_name)\n",
    "    res_df = t.head(10).execute()\n",
    "    \n",
    "    display(t_name)\n",
    "    display(res_df)"
   ]
  },
  {
   "cell_type": "markdown",
   "id": "17",
   "metadata": {},
   "source": [
    "---"
   ]
  },
  {
   "cell_type": "code",
   "execution_count": null,
   "id": "18",
   "metadata": {},
   "outputs": [],
   "source": [
    "filtered_tables = []"
   ]
  },
  {
   "cell_type": "code",
   "execution_count": null,
   "id": "19",
   "metadata": {},
   "outputs": [],
   "source": [
    "for t_dict in date_columns:\n",
    "    t_name = t_dict[\"table\"]\n",
    "    date_col = t_dict[\"date_col\"]\n",
    "    \n",
    "    _table = con.table(t_name)\n",
    "    \n",
    "    # Cast date column to timestamp type (if needed)\n",
    "    _table = _table.mutate(\n",
    "        **{date_col: _table[date_col].cast(\"timestamp\")}\n",
    "    )\n",
    "    \n",
    "    # Truncate datetime to 1 minute precision\n",
    "    minute_col = _table[date_col].truncate(\"m\")\n",
    "\n",
    "    # Group by truncated time to aggregate min datetime per group\n",
    "    grouped = _table.group_by(minute_col).aggregate(oldest=_table[date_col].min())\n",
    "\n",
    "    # Join to get full rows corresponding to oldest rows per minute\n",
    "    filtered_table = _table.inner_join(grouped, _table[date_col] == grouped[\"oldest\"]).select(_table.columns)\n",
    "\n",
    "    filtered_tables.append({\"table_name\": t_name, \"data\": filtered_table})\n"
   ]
  },
  {
   "cell_type": "code",
   "execution_count": null,
   "id": "20",
   "metadata": {},
   "outputs": [],
   "source": [
    "for _t in filtered_tables:\n",
    "    t_name = _t[\"table_name\"]\n",
    "    t_data = _t[\"data\"]\n",
    "    \n",
    "    t = con.table(t_name)\n",
    "    res_df = t.head(10).execute()\n",
    "    \n",
    "    display(t_name)\n",
    "    display(res_df)"
   ]
  }
 ],
 "metadata": {
  "kernelspec": {
   "display_name": ".venv",
   "language": "python",
   "name": "python3"
  },
  "language_info": {
   "codemirror_mode": {
    "name": "ipython",
    "version": 3
   },
   "file_extension": ".py",
   "mimetype": "text/x-python",
   "name": "python",
   "nbconvert_exporter": "python",
   "pygments_lexer": "ipython3",
   "version": "3.13.2"
  }
 },
 "nbformat": 4,
 "nbformat_minor": 5
}
