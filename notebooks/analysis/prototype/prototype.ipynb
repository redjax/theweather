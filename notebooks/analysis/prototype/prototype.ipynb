{
 "cells": [
  {
   "cell_type": "code",
   "execution_count": null,
   "id": "b1cc80f9",
   "metadata": {},
   "outputs": [],
   "source": [
    "## Set notebook to auto reload updated modules\n",
    "%load_ext autoreload\n",
    "%autoreload 2"
   ]
  },
  {
   "cell_type": "code",
   "execution_count": null,
   "id": "132f1a93",
   "metadata": {},
   "outputs": [],
   "source": [
    "from shared.config import SHARED_SETTINGS\n",
    "from shared.db import get_db_uri, get_engine, get_session_pool"
   ]
  },
  {
   "cell_type": "code",
   "execution_count": null,
   "id": "224c1481",
   "metadata": {},
   "outputs": [],
   "source": [
    "from shared.domain.weatherapi.weather.current import (CurrentWeatherIn, CurrentWeatherOut, CurrentWeatherRepository, CurrentWeatherModel, CurrentWeatherJSONIn, CurrentWeatherJSONOut, CurrentWeatherJSONModel, CurrentWeatherJSONRepository)\n",
    "\n",
    "from shared.domain.weatherapi.location import (LocationIn, LocationJSONModel, LocationModel, LocationOut, LocationRepository)\n",
    "\n",
    "from shared.domain.weatherapi.weather.forecast import ForecastJSONIn, ForecastJSONModel, ForecastJSONOut, ForecastJSONRepository"
   ]
  },
  {
   "cell_type": "code",
   "execution_count": null,
   "id": "5fbda15a",
   "metadata": {},
   "outputs": [],
   "source": [
    "from config import SETTINGS, DB_SETTINGS"
   ]
  },
  {
   "cell_type": "code",
   "execution_count": null,
   "id": "91f2a4fa",
   "metadata": {},
   "outputs": [],
   "source": [
    "import pandas as pd"
   ]
  },
  {
   "cell_type": "code",
   "execution_count": null,
   "id": "2c31c152",
   "metadata": {},
   "outputs": [],
   "source": [
    "display(DB_SETTINGS)"
   ]
  },
  {
   "cell_type": "code",
   "execution_count": null,
   "id": "a50b0a86",
   "metadata": {},
   "outputs": [],
   "source": [
    "db_url = get_db_uri(\n",
    "    drivername=DB_SETTINGS.get(\"DB_DRIVERNAME\"),\n",
    "    username=DB_SETTINGS.get(\"DB_USERNAME\"),\n",
    "    password=DB_SETTINGS.get(\"DB_PASSWORD\"),\n",
    "    host=DB_SETTINGS.get(\"DB_HOST\"),\n",
    "    port=DB_SETTINGS.get(\"DB_PORT\"),\n",
    "    database=DB_SETTINGS.get(\"DB_DATABASE\")\n",
    ")"
   ]
  },
  {
   "cell_type": "code",
   "execution_count": null,
   "id": "c0ca99a2",
   "metadata": {},
   "outputs": [],
   "source": [
    "db_engine = get_engine(url=db_url, echo=DB_SETTINGS.get(\"db_echo\", False))"
   ]
  },
  {
   "cell_type": "code",
   "execution_count": null,
   "id": "26060460",
   "metadata": {},
   "outputs": [],
   "source": [
    "SessionLocal = get_session_pool(engine=db_engine)"
   ]
  },
  {
   "cell_type": "markdown",
   "id": "149b5892",
   "metadata": {},
   "source": [
    "---"
   ]
  },
  {
   "cell_type": "code",
   "execution_count": null,
   "id": "e7a71ab8",
   "metadata": {},
   "outputs": [],
   "source": [
    "with SessionLocal() as session:\n",
    "    current_weather_json_repo = CurrentWeatherJSONRepository(session)\n",
    "    \n",
    "    all_current_weather_json_db_entities: list[CurrentWeatherJSONModel] = current_weather_json_repo.list()"
   ]
  },
  {
   "cell_type": "code",
   "execution_count": null,
   "id": "050a3c71",
   "metadata": {},
   "outputs": [],
   "source": [
    "display(type(all_current_weather_json_db_entities))\n",
    "display(type(all_current_weather_json_db_entities[0]))"
   ]
  },
  {
   "cell_type": "code",
   "execution_count": null,
   "id": "61b20e26",
   "metadata": {},
   "outputs": [],
   "source": [
    "display(all_current_weather_json_db_entities[0].__dict__)"
   ]
  },
  {
   "cell_type": "code",
   "execution_count": null,
   "id": "3e59466c",
   "metadata": {},
   "outputs": [],
   "source": [
    "all_current_weather_dicts = [\n",
    "    {\"id\": m.id, \"current_weather_json\": m.current_weather_json, \"created_at\": m.created_at} for m in all_current_weather_json_db_entities\n",
    "]\n",
    "\n",
    "display(len(all_current_weather_dicts))\n"
   ]
  },
  {
   "cell_type": "code",
   "execution_count": null,
   "id": "9c0ac1b4",
   "metadata": {},
   "outputs": [],
   "source": [
    "df = pd.json_normalize(data=all_current_weather_dicts)\n",
    "\n",
    "df = df.sort_values('created_at')\n",
    "\n",
    "# Ensure 'created_at' is datetime type\n",
    "df['created_at'] = pd.to_datetime(df['created_at'])\n",
    "\n",
    "display(df.shape[0])\n",
    "display(df.head(10))"
   ]
  },
  {
   "cell_type": "code",
   "execution_count": null,
   "id": "23c1069e",
   "metadata": {},
   "outputs": [],
   "source": [
    "_delete_df = df.copy()"
   ]
  },
  {
   "cell_type": "code",
   "execution_count": null,
   "id": "10d438f0",
   "metadata": {},
   "outputs": [],
   "source": [
    "_delete_df['time_diff'] = _delete_df['created_at'].diff()"
   ]
  },
  {
   "cell_type": "code",
   "execution_count": null,
   "id": "a1d06234",
   "metadata": {},
   "outputs": [],
   "source": [
    "created_at_times = _delete_df['created_at'].tolist()\n",
    "display(created_at_times)"
   ]
  },
  {
   "cell_type": "code",
   "execution_count": null,
   "id": "7937b9e6",
   "metadata": {},
   "outputs": [],
   "source": [
    "## Mark for deletion if created within timedelta of previous row\n",
    "delete_mask = _delete_df['time_diff'] <= pd.Timedelta(seconds=30)\n",
    "records_to_delete = _delete_df[delete_mask]\n",
    "\n",
    "records_to_delete = records_to_delete.drop(columns=['time_diff'])"
   ]
  },
  {
   "cell_type": "code",
   "execution_count": null,
   "id": "9bf6fc64",
   "metadata": {},
   "outputs": [],
   "source": [
    "display(records_to_delete.shape[0])\n",
    "display(records_to_delete.head(10))"
   ]
  },
  {
   "cell_type": "code",
   "execution_count": null,
   "id": "5d2b3e0f",
   "metadata": {},
   "outputs": [],
   "source": [
    "delete_ids = records_to_delete['id'].tolist()\n",
    "display(len(delete_ids))\n",
    "\n",
    "if len(delete_ids) >10:\n",
    "    display(delete_ids[:10])\n",
    "else:\n",
    "    display(delete_ids)"
   ]
  },
  {
   "cell_type": "code",
   "execution_count": null,
   "id": "cff637ea",
   "metadata": {},
   "outputs": [],
   "source": [
    "with SessionLocal() as session:\n",
    "    repo = CurrentWeatherJSONRepository(session)\n",
    "    \n",
    "    errors = []\n",
    "    deleted_models = []\n",
    "    \n",
    "    for _id in delete_ids:\n",
    "        _model = repo.get(_id)\n",
    "        \n",
    "        if not _model:\n",
    "            display(f\"Could not find database entity with ID: {_id}\")\n",
    "            continue\n",
    "        \n",
    "        try:\n",
    "            repo.delete(_model)\n",
    "            deleted_models.append(_model)\n",
    "        except Exception as exc:\n",
    "            display(f\"Error deleting database entity with ID: {_model.id} : ({type(exc)}) {exc}\")\n",
    "            errors.append(_model)\n",
    "        \n",
    "display(f\"Deleted: {len(deleted_models)}, errors: {len(errors)}\")"
   ]
  },
  {
   "cell_type": "code",
   "execution_count": null,
   "id": "3b1e4096",
   "metadata": {},
   "outputs": [],
   "source": [
    "if len(errors) > 0:\n",
    "    for _e in errors:\n",
    "        display(f\"Errored on model:\\n{_e.__dict__}\")"
   ]
  },
  {
   "cell_type": "code",
   "execution_count": null,
   "id": "612b6028",
   "metadata": {},
   "outputs": [],
   "source": [
    "deleted_models"
   ]
  },
  {
   "cell_type": "markdown",
   "id": "0a7807af",
   "metadata": {},
   "source": [
    "\n",
    "---"
   ]
  },
  {
   "cell_type": "code",
   "execution_count": null,
   "id": "edc9bd6e",
   "metadata": {},
   "outputs": [],
   "source": [
    "with SessionLocal() as session:\n",
    "    current_weather_json_repo = CurrentWeatherJSONRepository(session)\n",
    "    \n",
    "    all_current_weather_json_db_entities: list[CurrentWeatherJSONModel] = current_weather_json_repo.list()"
   ]
  },
  {
   "cell_type": "code",
   "execution_count": null,
   "id": "4c8adf83",
   "metadata": {},
   "outputs": [],
   "source": [
    "display(all_current_weather_json_db_entities[0].__dict__)"
   ]
  },
  {
   "cell_type": "code",
   "execution_count": null,
   "id": "d5a91ae2",
   "metadata": {},
   "outputs": [],
   "source": [
    "all_current_weather_dicts = [\n",
    "    {\"id\": m.id, \"current_weather_json\": m.current_weather_json, \"created_at\": m.created_at} for m in all_current_weather_json_db_entities\n",
    "]\n",
    "\n",
    "display(len(all_current_weather_dicts))"
   ]
  },
  {
   "cell_type": "code",
   "execution_count": null,
   "id": "5180801f",
   "metadata": {},
   "outputs": [],
   "source": [
    "df = pd.json_normalize(data=all_current_weather_dicts)\n",
    "\n",
    "df = df.sort_values('created_at')\n",
    "\n",
    "# Ensure 'created_at' is datetime type\n",
    "df['created_at'] = pd.to_datetime(df['created_at'])\n",
    "\n",
    "display(df.shape[0])\n",
    "display(df.head(10))"
   ]
  }
 ],
 "metadata": {
  "kernelspec": {
   "display_name": ".venv",
   "language": "python",
   "name": "python3"
  },
  "language_info": {
   "codemirror_mode": {
    "name": "ipython",
    "version": 3
   },
   "file_extension": ".py",
   "mimetype": "text/x-python",
   "name": "python",
   "nbconvert_exporter": "python",
   "pygments_lexer": "ipython3",
   "version": "3.13.2"
  }
 },
 "nbformat": 4,
 "nbformat_minor": 5
}
